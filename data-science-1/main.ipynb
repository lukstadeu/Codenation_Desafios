{
 "cells": [
  {
   "cell_type": "markdown",
   "metadata": {},
   "source": [
    "# Desafio 3\n",
    "\n",
    "Neste desafio, iremos praticar nossos conhecimentos sobre distribuições de probabilidade. Para isso,\n",
    "dividiremos este desafio em duas partes:\n",
    "    \n",
    "1. A primeira parte contará com 3 questões sobre um *data set* artificial com dados de uma amostra normal e\n",
    "    uma binomial.\n",
    "2. A segunda parte será sobre a análise da distribuição de uma variável do _data set_ [Pulsar Star](https://archive.ics.uci.edu/ml/datasets/HTRU2), contendo 2 questões.\n",
    "\n",
    "> Obs.: Por favor, não modifique o nome das funções de resposta."
   ]
  },
  {
   "cell_type": "markdown",
   "metadata": {},
   "source": [
    "## _Setup_ geral"
   ]
  },
  {
   "cell_type": "code",
   "execution_count": 1,
   "metadata": {},
   "outputs": [],
   "source": [
    "import pandas as pd\n",
    "import matplotlib.pyplot as plt\n",
    "import numpy as np\n",
    "import scipy.stats as sct\n",
    "import seaborn as sns\n",
    "from statsmodels.distributions.empirical_distribution import ECDF"
   ]
  },
  {
   "cell_type": "code",
   "execution_count": 3,
   "metadata": {},
   "outputs": [],
   "source": [
    "#%matplotlib inline\n",
    "\n",
    "from IPython.core.pylabtools import figsize\n",
    "\n",
    "\n",
    "figsize(12, 8)\n",
    "\n",
    "sns.set()"
   ]
  },
  {
   "cell_type": "markdown",
   "metadata": {},
   "source": [
    "## Parte 1"
   ]
  },
  {
   "cell_type": "markdown",
   "metadata": {},
   "source": [
    "### _Setup_ da parte 1"
   ]
  },
  {
   "cell_type": "code",
   "execution_count": 4,
   "metadata": {},
   "outputs": [],
   "source": [
    "np.random.seed(42)\n",
    "    \n",
    "dataframe = pd.DataFrame({\"normal\": sct.norm.rvs(20, 4, size=10000),\n",
    "                     \"binomial\": sct.binom.rvs(100, 0.2, size=10000)})"
   ]
  },
  {
   "cell_type": "markdown",
   "metadata": {},
   "source": [
    "## Inicie sua análise a partir da parte 1 a partir daqui"
   ]
  },
  {
   "cell_type": "code",
   "execution_count": 5,
   "metadata": {},
   "outputs": [],
   "source": [
    "norm = dataframe['normal']\n",
    "binom = dataframe['binomial']"
   ]
  },
  {
   "cell_type": "code",
   "execution_count": 6,
   "metadata": {},
   "outputs": [
    {
     "output_type": "execute_result",
     "data": {
      "text/plain": "              normal  binomial\n1_quartil  17.309638      17.0\n2_quartil  19.989620      20.0\n3_quartil  22.684324      23.0",
      "text/html": "<div>\n<style scoped>\n    .dataframe tbody tr th:only-of-type {\n        vertical-align: middle;\n    }\n\n    .dataframe tbody tr th {\n        vertical-align: top;\n    }\n\n    .dataframe thead th {\n        text-align: right;\n    }\n</style>\n<table border=\"1\" class=\"dataframe\">\n  <thead>\n    <tr style=\"text-align: right;\">\n      <th></th>\n      <th>normal</th>\n      <th>binomial</th>\n    </tr>\n  </thead>\n  <tbody>\n    <tr>\n      <th>1_quartil</th>\n      <td>17.309638</td>\n      <td>17.0</td>\n    </tr>\n    <tr>\n      <th>2_quartil</th>\n      <td>19.989620</td>\n      <td>20.0</td>\n    </tr>\n    <tr>\n      <th>3_quartil</th>\n      <td>22.684324</td>\n      <td>23.0</td>\n    </tr>\n  </tbody>\n</table>\n</div>"
     },
     "metadata": {},
     "execution_count": 6
    }
   ],
   "source": [
    "# Sua análise da parte 1 começa aqui.\n",
    "\n",
    "# Quartis distribuição normal\n",
    "q1_norm = norm.quantile(0.25)\n",
    "q2_norm = norm.quantile(0.50)\n",
    "q3_norm = norm.quantile(0.75)\n",
    "\n",
    "# Quartis distribuição binominal\n",
    "q1_binom = binom.quantile(0.25) \n",
    "q2_binom = binom.quantile(0.50) \n",
    "q3_binom = binom.quantile(0.75) \n",
    "\n",
    "\n",
    "# Criando Dataframe com os quartis\n",
    "quartis = pd.DataFrame({'normal' : [q1_norm,q2_norm,q3_norm],\n",
    "                        'binomial' :[q1_binom,q2_binom,q3_binom]},\n",
    "                        index = ['1_quartil','2_quartil','3_quartil'])\n",
    "\n",
    "# Dataframe dos quartis\n",
    "quartis"
   ]
  },
  {
   "cell_type": "markdown",
   "metadata": {},
   "source": [
    "## Questão 1\n",
    "\n",
    "Qual a diferença entre os quartis (Q1, Q2 e Q3) das variáveis `normal` e `binomial` de `dataframe`? Responda como uma tupla de três elementos arredondados para três casas decimais.\n",
    "\n",
    "Em outra palavras, sejam `q1_norm`, `q2_norm` e `q3_norm` os quantis da variável `normal` e `q1_binom`, `q2_binom` e `q3_binom` os quantis da variável `binom`, qual a diferença `(q1_norm - q1 binom, q2_norm - q2_binom, q3_norm - q3_binom)`?"
   ]
  },
  {
   "cell_type": "code",
   "execution_count": 7,
   "metadata": {},
   "outputs": [],
   "source": [
    "def q1():\n",
    "    # Rertorne aqui o resultado da questão 1\n",
    "    # Diferença entre os quartis das distribuições\n",
    "    diferenca = [round(quartis.iloc[i,0] - quartis.iloc[i,1],3) for i in range(3)]\n",
    "\n",
    "    return tuple(diferenca)\n"
   ]
  },
  {
   "cell_type": "markdown",
   "metadata": {},
   "source": [
    "Para refletir:\n",
    "\n",
    "* Você esperava valores dessa magnitude?\n",
    "\n",
    "* Você é capaz de explicar como distribuições aparentemente tão diferentes (discreta e contínua, por exemplo) conseguem dar esses valores?\n"
   ]
  },
  {
   "cell_type": "markdown",
   "metadata": {},
   "source": [
    "## Questão 2\n",
    "\n",
    "Considere o intervalo $[\\bar{x} - s, \\bar{x} + s]$, onde $\\bar{x}$ é a média amostral e $s$ é o desvio padrão. Qual a probabilidade nesse intervalo, calculada pela função de distribuição acumulada empírica (CDF empírica) da variável `normal`? Responda como uma único escalar arredondado para três casas decimais."
   ]
  },
  {
   "cell_type": "code",
   "execution_count": 8,
   "metadata": {},
   "outputs": [],
   "source": [
    "# Média e desvio padrão distribuição normal\n",
    "media_norm = norm.mean()\n",
    "desvio_padrao_norm = norm.std()\n",
    "\n",
    "# Fit ECDF na distribuição normal\n",
    "fit_norm  = ECDF(norm)\n",
    "\n",
    "# Cácluclo da probabilidade\n",
    "# Primeiro cálcula o valor ECDF para (média + desvio_padrão) e desse valor subtrai o valor calculado para o ECDF para (média - desvio_padrão)\n",
    "probabilidade = round((fit_norm(media_norm + desvio_padrao_norm) - fit_norm(media_norm - desvio_padrao_norm)),3)\n"
   ]
  },
  {
   "cell_type": "code",
   "execution_count": 136,
   "metadata": {},
   "outputs": [],
   "source": [
    "def q2():\n",
    "    # Rertorne aqui o resultado da questão 2\n",
    "    return float(probabilidade)"
   ]
  },
  {
   "cell_type": "markdown",
   "metadata": {},
   "source": [
    "Para refletir:\n",
    "\n",
    "* Esse valor se aproxima do esperado teórico?\n",
    "* Experimente também para os intervalos $[\\bar{x} - 2s, \\bar{x} + 2s]$ e $[\\bar{x} - 3s, \\bar{x} + 3s]$."
   ]
  },
  {
   "cell_type": "markdown",
   "metadata": {},
   "source": [
    "## Questão 3\n",
    "\n",
    "Qual é a diferença entre as médias e as variâncias das variáveis `binomial` e `normal`? Responda como uma tupla de dois elementos arredondados para três casas decimais.\n",
    "\n",
    "Em outras palavras, sejam `m_binom` e `v_binom` a média e a variância da variável `binomial`, e `m_norm` e `v_norm` a média e a variância da variável `normal`. Quais as diferenças `(m_binom - m_norm, v_binom - v_norm)`?"
   ]
  },
  {
   "cell_type": "code",
   "execution_count": 9,
   "metadata": {},
   "outputs": [],
   "source": [
    "# Média para distribuição normal já foi calculada para questão anteriror\n",
    "# Variância da distribuição normal \n",
    "variancia_normal = norm.var()\n",
    "\n",
    "# Variância e média da distribuição binomial\n",
    "variancia_binomial = binom.var()\n",
    "media_binomial = binom.mean()\n",
    "\n",
    "# Diferença entre média e variância\n",
    "resultado = (round(media_binomial - media_norm ,3),round(variancia_binomial - variancia_normal,3))\n",
    "\n"
   ]
  },
  {
   "cell_type": "code",
   "execution_count": 10,
   "metadata": {},
   "outputs": [],
   "source": [
    "def q3():\n",
    "    # Rertorne aqui o resultado da questão 3\n",
    "    return tuple(resultado)"
   ]
  },
  {
   "cell_type": "markdown",
   "metadata": {},
   "source": [
    "Para refletir:\n",
    "\n",
    "* Você esperava valore dessa magnitude?\n",
    "* Qual o efeito de aumentar ou diminuir $n$ (atualmente 100) na distribuição da variável `binomial`?"
   ]
  },
  {
   "cell_type": "markdown",
   "metadata": {},
   "source": [
    "## Parte 2"
   ]
  },
  {
   "cell_type": "markdown",
   "metadata": {},
   "source": [
    "### _Setup_ da parte 2"
   ]
  },
  {
   "cell_type": "code",
   "execution_count": 11,
   "metadata": {},
   "outputs": [],
   "source": [
    "stars = pd.read_csv(\"pulsar_stars.csv\")\n",
    "\n",
    "stars.rename({old_name: new_name\n",
    "              for (old_name, new_name)\n",
    "              in zip(stars.columns,\n",
    "                     [\"mean_profile\", \"sd_profile\", \"kurt_profile\", \"skew_profile\", \"mean_curve\", \"sd_curve\", \"kurt_curve\", \"skew_curve\", \"target\"])\n",
    "             },\n",
    "             axis=1, inplace=True)\n",
    "\n",
    "stars.loc[:, \"target\"] = stars.target.astype(bool)"
   ]
  },
  {
   "cell_type": "markdown",
   "metadata": {},
   "source": [
    "## Inicie sua análise da parte 2 a partir daqui"
   ]
  },
  {
   "cell_type": "code",
   "execution_count": 17,
   "metadata": {},
   "outputs": [
    {
     "output_type": "execute_result",
     "data": {
      "text/plain": "   mean_profile  sd_profile  kurt_profile  skew_profile  mean_curve  \\\n0    102.507812   58.882430      0.465318     -0.515088    1.677258   \n1    103.015625   39.341649      0.323328      1.051164    3.121237   \n2    136.750000   57.178449     -0.068415     -0.636238    3.642977   \n3     88.726562   40.672225      0.600866      1.123492    1.178930   \n4     93.570312   46.698114      0.531905      0.416721    1.636288   \n\n    sd_curve  kurt_curve  skew_curve  target  \n0  14.860146   10.576487  127.393580   False  \n1  21.744669    7.735822   63.171909   False  \n2  20.959280    6.896499   53.593661   False  \n3  11.468720   14.269573  252.567306   False  \n4  14.545074   10.621748  131.394004   False  ",
      "text/html": "<div>\n<style scoped>\n    .dataframe tbody tr th:only-of-type {\n        vertical-align: middle;\n    }\n\n    .dataframe tbody tr th {\n        vertical-align: top;\n    }\n\n    .dataframe thead th {\n        text-align: right;\n    }\n</style>\n<table border=\"1\" class=\"dataframe\">\n  <thead>\n    <tr style=\"text-align: right;\">\n      <th></th>\n      <th>mean_profile</th>\n      <th>sd_profile</th>\n      <th>kurt_profile</th>\n      <th>skew_profile</th>\n      <th>mean_curve</th>\n      <th>sd_curve</th>\n      <th>kurt_curve</th>\n      <th>skew_curve</th>\n      <th>target</th>\n    </tr>\n  </thead>\n  <tbody>\n    <tr>\n      <th>0</th>\n      <td>102.507812</td>\n      <td>58.882430</td>\n      <td>0.465318</td>\n      <td>-0.515088</td>\n      <td>1.677258</td>\n      <td>14.860146</td>\n      <td>10.576487</td>\n      <td>127.393580</td>\n      <td>False</td>\n    </tr>\n    <tr>\n      <th>1</th>\n      <td>103.015625</td>\n      <td>39.341649</td>\n      <td>0.323328</td>\n      <td>1.051164</td>\n      <td>3.121237</td>\n      <td>21.744669</td>\n      <td>7.735822</td>\n      <td>63.171909</td>\n      <td>False</td>\n    </tr>\n    <tr>\n      <th>2</th>\n      <td>136.750000</td>\n      <td>57.178449</td>\n      <td>-0.068415</td>\n      <td>-0.636238</td>\n      <td>3.642977</td>\n      <td>20.959280</td>\n      <td>6.896499</td>\n      <td>53.593661</td>\n      <td>False</td>\n    </tr>\n    <tr>\n      <th>3</th>\n      <td>88.726562</td>\n      <td>40.672225</td>\n      <td>0.600866</td>\n      <td>1.123492</td>\n      <td>1.178930</td>\n      <td>11.468720</td>\n      <td>14.269573</td>\n      <td>252.567306</td>\n      <td>False</td>\n    </tr>\n    <tr>\n      <th>4</th>\n      <td>93.570312</td>\n      <td>46.698114</td>\n      <td>0.531905</td>\n      <td>0.416721</td>\n      <td>1.636288</td>\n      <td>14.545074</td>\n      <td>10.621748</td>\n      <td>131.394004</td>\n      <td>False</td>\n    </tr>\n  </tbody>\n</table>\n</div>"
     },
     "metadata": {},
     "execution_count": 17
    }
   ],
   "source": [
    "# Sua análise da parte 2 começa aqui.\n",
    "\n",
    "stars.head()\n",
    "\n"
   ]
  },
  {
   "cell_type": "code",
   "execution_count": 72,
   "metadata": {},
   "outputs": [
    {
     "output_type": "execute_result",
     "data": {
      "text/plain": "False    16258\nTrue      1639\nName: target, dtype: int64"
     },
     "metadata": {},
     "execution_count": 72
    }
   ],
   "source": [
    "stars['target'].value_counts()"
   ]
  },
  {
   "cell_type": "code",
   "execution_count": 19,
   "metadata": {},
   "outputs": [
    {
     "output_type": "execute_result",
     "data": {
      "text/plain": "       mean_profile    sd_profile  kurt_profile  skew_profile    mean_curve  \\\ncount  17897.000000  17897.000000  17897.000000  17897.000000  17897.000000   \nmean     111.078321     46.549021      0.477897      1.770417     12.614926   \nstd       25.652705      6.843040      1.064056      6.168058     29.473637   \nmin        5.812500     24.772042     -1.876011     -1.791886      0.213211   \n25%      100.929688     42.375426      0.027108     -0.188528      1.923077   \n50%      115.078125     46.946435      0.223241      0.198736      2.801839   \n75%      127.085938     51.022887      0.473349      0.928206      5.464883   \nmax      192.617188     98.778911      8.069522     68.101622    223.392140   \n\n           sd_curve    kurt_curve    skew_curve  \ncount  17897.000000  17897.000000  17897.000000  \nmean      26.326918      8.303574    104.859419  \nstd       19.471042      4.506217    106.517270  \nmin        7.370432     -3.139270     -1.976976  \n25%       14.437330      5.781485     34.957119  \n50%       18.459977      8.433872     83.068996  \n75%       28.428152     10.702973    139.310905  \nmax      110.642211     34.539844   1191.000837  ",
      "text/html": "<div>\n<style scoped>\n    .dataframe tbody tr th:only-of-type {\n        vertical-align: middle;\n    }\n\n    .dataframe tbody tr th {\n        vertical-align: top;\n    }\n\n    .dataframe thead th {\n        text-align: right;\n    }\n</style>\n<table border=\"1\" class=\"dataframe\">\n  <thead>\n    <tr style=\"text-align: right;\">\n      <th></th>\n      <th>mean_profile</th>\n      <th>sd_profile</th>\n      <th>kurt_profile</th>\n      <th>skew_profile</th>\n      <th>mean_curve</th>\n      <th>sd_curve</th>\n      <th>kurt_curve</th>\n      <th>skew_curve</th>\n    </tr>\n  </thead>\n  <tbody>\n    <tr>\n      <th>count</th>\n      <td>17897.000000</td>\n      <td>17897.000000</td>\n      <td>17897.000000</td>\n      <td>17897.000000</td>\n      <td>17897.000000</td>\n      <td>17897.000000</td>\n      <td>17897.000000</td>\n      <td>17897.000000</td>\n    </tr>\n    <tr>\n      <th>mean</th>\n      <td>111.078321</td>\n      <td>46.549021</td>\n      <td>0.477897</td>\n      <td>1.770417</td>\n      <td>12.614926</td>\n      <td>26.326918</td>\n      <td>8.303574</td>\n      <td>104.859419</td>\n    </tr>\n    <tr>\n      <th>std</th>\n      <td>25.652705</td>\n      <td>6.843040</td>\n      <td>1.064056</td>\n      <td>6.168058</td>\n      <td>29.473637</td>\n      <td>19.471042</td>\n      <td>4.506217</td>\n      <td>106.517270</td>\n    </tr>\n    <tr>\n      <th>min</th>\n      <td>5.812500</td>\n      <td>24.772042</td>\n      <td>-1.876011</td>\n      <td>-1.791886</td>\n      <td>0.213211</td>\n      <td>7.370432</td>\n      <td>-3.139270</td>\n      <td>-1.976976</td>\n    </tr>\n    <tr>\n      <th>25%</th>\n      <td>100.929688</td>\n      <td>42.375426</td>\n      <td>0.027108</td>\n      <td>-0.188528</td>\n      <td>1.923077</td>\n      <td>14.437330</td>\n      <td>5.781485</td>\n      <td>34.957119</td>\n    </tr>\n    <tr>\n      <th>50%</th>\n      <td>115.078125</td>\n      <td>46.946435</td>\n      <td>0.223241</td>\n      <td>0.198736</td>\n      <td>2.801839</td>\n      <td>18.459977</td>\n      <td>8.433872</td>\n      <td>83.068996</td>\n    </tr>\n    <tr>\n      <th>75%</th>\n      <td>127.085938</td>\n      <td>51.022887</td>\n      <td>0.473349</td>\n      <td>0.928206</td>\n      <td>5.464883</td>\n      <td>28.428152</td>\n      <td>10.702973</td>\n      <td>139.310905</td>\n    </tr>\n    <tr>\n      <th>max</th>\n      <td>192.617188</td>\n      <td>98.778911</td>\n      <td>8.069522</td>\n      <td>68.101622</td>\n      <td>223.392140</td>\n      <td>110.642211</td>\n      <td>34.539844</td>\n      <td>1191.000837</td>\n    </tr>\n  </tbody>\n</table>\n</div>"
     },
     "metadata": {},
     "execution_count": 19
    }
   ],
   "source": [
    "stars.describe()\n"
   ]
  },
  {
   "cell_type": "code",
   "execution_count": 73,
   "metadata": {},
   "outputs": [],
   "source": [
    "# Filtre apenas os valores de mean_profile onde target == 0 (ou seja, onde a estrela não é um pulsar).\n",
    "false_pulsar = stars.loc[stars.target==0].mean_profile\n",
    "\n",
    "# Padronize a variável mean_profile filtrada anteriormente para ter média 0 e variância 1.\n",
    "false_pulsar_mean_profile_standardized = (false_pulsar - false_pulsar.mean()) / false_pulsar.std() \n",
    "\n",
    "\n"
   ]
  },
  {
   "cell_type": "markdown",
   "metadata": {},
   "source": [
    "## Questão 4\n",
    "\n",
    "Considerando a variável `mean_profile` de `stars`:\n",
    "\n",
    "1. Filtre apenas os valores de `mean_profile` onde `target == 0` (ou seja, onde a estrela não é um pulsar).\n",
    "2. Padronize a variável `mean_profile` filtrada anteriormente para ter média 0 e variância 1.\n",
    "\n",
    "Chamaremos a variável resultante de `false_pulsar_mean_profile_standardized`.\n",
    "\n",
    "Encontre os quantis teóricos para uma distribuição normal de média 0 e variância 1 para 0.80, 0.90 e 0.95 através da função `norm.ppf()` disponível em `scipy.stats`.\n",
    "\n",
    "Quais as probabilidade associadas a esses quantis utilizando a CDF empírica da variável `false_pulsar_mean_profile_standardized`? Responda como uma tupla de três elementos arredondados para três casas decimais."
   ]
  },
  {
   "cell_type": "code",
   "execution_count": 10,
   "metadata": {},
   "outputs": [],
   "source": [
    "def q4():\n",
    "    # Rertorne aqui o resultado da questão 4\n",
    "    # Quantis teóricos obtidos através da função sct.norm.ppf\n",
    "    quantis_teoricos = sct.norm.ppf([0.80,0.90,0.95], loc = 0 , scale = 1)\n",
    "\n",
    "    ecdf =  ECDF(false_pulsar_mean_profile_standardized) \n",
    "\n",
    "    return tuple(ecdf(quantis_teoricos).round(3))\n"
   ]
  },
  {
   "cell_type": "markdown",
   "metadata": {},
   "source": [
    "Para refletir:\n",
    "\n",
    "* Os valores encontrados fazem sentido?\n",
    "* O que isso pode dizer sobre a distribuição da variável `false_pulsar_mean_profile_standardized`?"
   ]
  },
  {
   "cell_type": "markdown",
   "metadata": {},
   "source": [
    "## Questão 5\n",
    "\n",
    "Qual a diferença entre os quantis Q1, Q2 e Q3 de `false_pulsar_mean_profile_standardized` e os mesmos quantis teóricos de uma distribuição normal de média 0 e variância 1? Responda como uma tupla de três elementos arredondados para três casas decimais."
   ]
  },
  {
   "cell_type": "code",
   "execution_count": 11,
   "metadata": {},
   "outputs": [],
   "source": [
    "def q5():\n",
    "    # Rertorne aqui o resultado da questão 5\n",
    "    # Quartis distribuição normal de média 0 e variância 1\n",
    "    quartis_norm = sct.norm.ppf([0.25,0.50,0.75], loc = 0, scale = 1)\n",
    "\n",
    "    ecdf =  ECDF(false_pulsar_mean_profile_standardized) \n",
    "\n",
    "    # Quartis da variável 'false_pulsar_mean_profile_standardized'  \n",
    "    quartis_ecdf = quartis_ecdf = np.quantile(false_pulsar_mean_profile_standardized,[0.25,0.50,0.75])\n",
    "\n",
    "    return tuple((quartis_ecdf - quartis_norm).round(3))"
   ]
  },
  {
   "cell_type": "markdown",
   "metadata": {},
   "source": [
    "Para refletir:\n",
    "\n",
    "* Os valores encontrados fazem sentido?\n",
    "* O que isso pode dizer sobre a distribuição da variável `false_pulsar_mean_profile_standardized`?\n",
    "* Curiosidade: alguns testes de hipóteses sobre normalidade dos dados utilizam essa mesma abordagem."
   ]
  }
 ],
 "metadata": {
  "kernelspec": {
   "display_name": "Python 3.8.2 64-bit ('aceleradev_ds': conda)",
   "language": "python",
   "name": "python38264bitaceleradevdsconda412c4ac4cd984f10ba34e3b20f2a8c81"
  },
  "language_info": {
   "codemirror_mode": {
    "name": "ipython",
    "version": 3
   },
   "file_extension": ".py",
   "mimetype": "text/x-python",
   "name": "python",
   "nbconvert_exporter": "python",
   "pygments_lexer": "ipython3",
   "version": "3.8.2-final"
  }
 },
 "nbformat": 4,
 "nbformat_minor": 2
}